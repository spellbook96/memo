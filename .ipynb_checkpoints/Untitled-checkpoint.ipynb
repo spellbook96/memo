{
 "cells": [
  {
   "cell_type": "code",
   "execution_count": 2,
   "id": "coated-delivery",
   "metadata": {},
   "outputs": [],
   "source": [
    "#include<stdio.h>"
   ]
  },
  {
   "cell_type": "code",
   "execution_count": 4,
   "id": "objective-shift",
   "metadata": {},
   "outputs": [
    {
     "name": "stderr",
     "output_type": "stream",
     "text": [
      "\u001b[1minput_line_10:28:1: \u001b[0m\u001b[0;1;31merror: \u001b[0m\u001b[1mfunction definition is not allowed here\u001b[0m\n",
      "{\n",
      "\u001b[0;1;32m^\n",
      "\u001b[0m\u001b[1minput_line_10:42:1: \u001b[0m\u001b[0;1;31merror: \u001b[0m\u001b[1mfunction definition is not allowed here\u001b[0m\n",
      "{\n",
      "\u001b[0;1;32m^\n",
      "\u001b[0m"
     ]
    },
    {
     "ename": "Interpreter Error",
     "evalue": "",
     "output_type": "error",
     "traceback": [
      "Interpreter Error: "
     ]
    }
   ],
   "source": [
    "\n",
    "void print_heap(int n[])\n",
    "{\n",
    "  int height=0;\n",
    "  int i=0,j=0,count=0,temp;\n",
    "  while(n[i]!=0)\n",
    "    {\n",
    "      height++;\n",
    "      i=2*i+1;\n",
    "    }\n",
    "  i=0;\n",
    "  \n",
    "  for(i=0;i<height;i++)\n",
    "    {\n",
    "      for(j=0;j<pow(2,i);j++)\n",
    "      {\n",
    "          printf(\"%.2d \" , n[count]);\n",
    "          count++;\n",
    "          if(n[count]==0)\n",
    "            break;\n",
    "      }\n",
    "      puts(\"\");\n",
    "    }\n",
    " \n",
    "  \n",
    "}\n",
    "\n",
    "int pow(int x,int n)\n",
    "{\n",
    "  if(n==0)\n",
    "    return 1;\n",
    "  else if(n==1)\n",
    "    return x;\n",
    "  else\n",
    "    {\n",
    "      x=x*x;\n",
    "      n--;\n",
    "      pow(x,n);\n",
    "    }\n",
    "    \n",
    "}\n",
    "\n",
    "int main(void)\n",
    "{\n",
    "  int n[100]={1,13,14,15,24,60,63,71,80,91};\n",
    "\n",
    "  print_heap(n);\n",
    "\n",
    "  return 0;\n",
    "}\n",
    "\n",
    "\n",
    "\n"
   ]
  },
  {
   "cell_type": "code",
   "execution_count": null,
   "id": "superior-hydrogen",
   "metadata": {},
   "outputs": [],
   "source": []
  }
 ],
 "metadata": {
  "kernelspec": {
   "display_name": "C++11",
   "language": "C++11",
   "name": "xcpp11"
  },
  "language_info": {
   "codemirror_mode": "text/x-c++src",
   "file_extension": ".cpp",
   "mimetype": "text/x-c++src",
   "name": "c++",
   "version": "11"
  },
  "varInspector": {
   "cols": {
    "lenName": "18",
    "lenType": "18",
    "lenVar": 40
   },
   "kernels_config": {
    "python": {
     "delete_cmd_postfix": "",
     "delete_cmd_prefix": "del ",
     "library": "var_list.py",
     "varRefreshCmd": "print(var_dic_list())"
    },
    "r": {
     "delete_cmd_postfix": ") ",
     "delete_cmd_prefix": "rm(",
     "library": "var_list.r",
     "varRefreshCmd": "cat(var_dic_list()) "
    }
   },
   "types_to_exclude": [
    "module",
    "function",
    "builtin_function_or_method",
    "instance",
    "_Feature"
   ],
   "window_display": true
  }
 },
 "nbformat": 4,
 "nbformat_minor": 5
}
