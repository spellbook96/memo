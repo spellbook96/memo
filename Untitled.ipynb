{
 "cells": [
  {
   "cell_type": "code",
   "execution_count": 2,
   "id": "altered-october",
   "metadata": {},
   "outputs": [],
   "source": [
    "#include <cmath>\n",
    "#include <climits>\n",
    "#include<iostream>"
   ]
  },
  {
   "cell_type": "code",
   "execution_count": null,
   "id": "stupid-pharmacology",
   "metadata": {},
   "outputs": [],
   "source": [
    "\n",
    "int main(void)\n",
    "{\n",
    "    using namespace std;\n",
    "\n",
    "    cout << sizeof(long long)<< endl;\n",
    "    return 0;\n",
    "    \n",
    "}"
   ]
  },
  {
   "cell_type": "code",
   "execution_count": 3,
   "id": "organic-segment",
   "metadata": {},
   "outputs": [
    {
     "name": "stdout",
     "output_type": "stream",
     "text": [
      "好呀"
     ]
    }
   ],
   "source": [
    "using namespace std;\n",
    "cout << \"好呀\";"
   ]
  },
  {
   "cell_type": "code",
   "execution_count": 11,
   "id": "medieval-damage",
   "metadata": {},
   "outputs": [],
   "source": [
    "int a[5]={1};"
   ]
  },
  {
   "cell_type": "code",
   "execution_count": null,
   "id": "ordinary-aggregate",
   "metadata": {},
   "outputs": [
    {
     "name": "stderr",
     "output_type": "stream",
     "text": [
      "\u001b[1minput_line_20:3:9: \u001b[0m\u001b[0;1;35mwarning: \u001b[0m\u001b[1musing the result of an assignment as a condition without parentheses [-Wparentheses]\u001b[0m\n",
      "while (a=1)\n",
      "\u001b[0;1;32m       ~^~\n",
      "\u001b[0m\u001b[1minput_line_20:3:9: \u001b[0m\u001b[0;1;30mnote: \u001b[0mplace parentheses around the assignment to silence this warning\u001b[0m\n",
      "while (a=1)\n",
      "\u001b[0;1;32m        ^\n",
      "\u001b[0m\u001b[0;32m       (  )\n",
      "\u001b[0m\u001b[1minput_line_20:3:9: \u001b[0m\u001b[0;1;30mnote: \u001b[0muse '==' to turn this assignment into an equality comparison\u001b[0m\n",
      "while (a=1)\n",
      "\u001b[0;1;32m        ^\n",
      "\u001b[0m\u001b[0;32m        ==\n",
      "\u001b[0m"
     ]
    }
   ],
   "source": [
    "int a =1;\n",
    "while (a=1)\n",
    "{\n",
    "    cout << \"123\";\n",
    "}"
   ]
  }
 ],
 "metadata": {
  "kernelspec": {
   "display_name": "C++11",
   "language": "C++11",
   "name": "xcpp11"
  },
  "language_info": {
   "codemirror_mode": "text/x-c++src",
   "file_extension": ".cpp",
   "mimetype": "text/x-c++src",
   "name": "c++",
   "version": "11"
  },
  "varInspector": {
   "cols": {
    "lenName": "18",
    "lenType": "18",
    "lenVar": 40
   },
   "kernels_config": {
    "python": {
     "delete_cmd_postfix": "",
     "delete_cmd_prefix": "del ",
     "library": "var_list.py",
     "varRefreshCmd": "print(var_dic_list())"
    },
    "r": {
     "delete_cmd_postfix": ") ",
     "delete_cmd_prefix": "rm(",
     "library": "var_list.r",
     "varRefreshCmd": "cat(var_dic_list()) "
    }
   },
   "types_to_exclude": [
    "module",
    "function",
    "builtin_function_or_method",
    "instance",
    "_Feature"
   ],
   "window_display": true
  }
 },
 "nbformat": 4,
 "nbformat_minor": 5
}
